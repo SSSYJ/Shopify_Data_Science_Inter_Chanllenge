{
 "cells": [
  {
   "cell_type": "markdown",
   "id": "487a20e4-39b4-4f61-aeff-a64d84dcf520",
   "metadata": {},
   "source": [
    "## Shopify Fall 2022 Data Science Intern Challenge"
   ]
  },
  {
   "cell_type": "code",
   "execution_count": 1,
   "id": "0b6361bd-8a6f-46a5-b187-7ba5e5ac2613",
   "metadata": {},
   "outputs": [],
   "source": [
    "import pandas as pd"
   ]
  },
  {
   "cell_type": "markdown",
   "id": "16206d0a-4454-481a-b87f-6ee9713b2640",
   "metadata": {},
   "source": [
    "### Question 1"
   ]
  },
  {
   "cell_type": "code",
   "execution_count": 2,
   "id": "a9c0e4aa-60a8-49d5-aa4c-5182e18b1eba",
   "metadata": {},
   "outputs": [],
   "source": [
    "csv_path = '2019 Winter Data Science Intern Challenge Data Set - Sheet1.csv'\n",
    "df = pd.read_csv(csv_path)"
   ]
  },
  {
   "cell_type": "markdown",
   "id": "455db918-b37c-43f0-9439-90e981c47889",
   "metadata": {},
   "source": [
    "**a.** There are some outlier orders in the dataset which has rarely large order amount. They can mainly be divided into two types. First type is that the order has a large number of total items. The second type is that the sneakers price is relatively high. Below are two outlier examples, one for each type."
   ]
  },
  {
   "cell_type": "code",
   "execution_count": 3,
   "id": "5c760cfa-4662-414c-8bd6-23899b08a900",
   "metadata": {},
   "outputs": [
    {
     "data": {
      "text/html": [
       "<div>\n",
       "<style scoped>\n",
       "    .dataframe tbody tr th:only-of-type {\n",
       "        vertical-align: middle;\n",
       "    }\n",
       "\n",
       "    .dataframe tbody tr th {\n",
       "        vertical-align: top;\n",
       "    }\n",
       "\n",
       "    .dataframe thead th {\n",
       "        text-align: right;\n",
       "    }\n",
       "</style>\n",
       "<table border=\"1\" class=\"dataframe\">\n",
       "  <thead>\n",
       "    <tr style=\"text-align: right;\">\n",
       "      <th></th>\n",
       "      <th>order_id</th>\n",
       "      <th>shop_id</th>\n",
       "      <th>user_id</th>\n",
       "      <th>order_amount</th>\n",
       "      <th>total_items</th>\n",
       "      <th>payment_method</th>\n",
       "      <th>created_at</th>\n",
       "    </tr>\n",
       "  </thead>\n",
       "  <tbody>\n",
       "    <tr>\n",
       "      <th>15</th>\n",
       "      <td>16</td>\n",
       "      <td>42</td>\n",
       "      <td>607</td>\n",
       "      <td>704000</td>\n",
       "      <td>2000</td>\n",
       "      <td>credit_card</td>\n",
       "      <td>2017-03-07 4:00:00</td>\n",
       "    </tr>\n",
       "    <tr>\n",
       "      <th>160</th>\n",
       "      <td>161</td>\n",
       "      <td>78</td>\n",
       "      <td>990</td>\n",
       "      <td>25725</td>\n",
       "      <td>1</td>\n",
       "      <td>credit_card</td>\n",
       "      <td>2017-03-12 5:56:57</td>\n",
       "    </tr>\n",
       "  </tbody>\n",
       "</table>\n",
       "</div>"
      ],
      "text/plain": [
       "     order_id  shop_id  user_id  order_amount  total_items payment_method  \\\n",
       "15         16       42      607        704000         2000    credit_card   \n",
       "160       161       78      990         25725            1    credit_card   \n",
       "\n",
       "             created_at  \n",
       "15   2017-03-07 4:00:00  \n",
       "160  2017-03-12 5:56:57  "
      ]
     },
     "execution_count": 3,
     "metadata": {},
     "output_type": "execute_result"
    }
   ],
   "source": [
    "df.iloc[[15, 160]]"
   ]
  },
  {
   "cell_type": "markdown",
   "id": "1f1cf398-e26b-44a5-8c96-b789638dd6c9",
   "metadata": {},
   "source": [
    "**b.** Instead of mean, median order value might be a better metric in this case. Mean and median both help to understand the central tendency of datasets, but since mean is affected by the outliers a lot, median will be a better choice here."
   ]
  },
  {
   "cell_type": "markdown",
   "id": "0fb9593a-c419-4498-8a01-648e547bed50",
   "metadata": {},
   "source": [
    "**c.** The median order value is $284.0."
   ]
  },
  {
   "cell_type": "code",
   "execution_count": 4,
   "id": "14cb937c-ca30-4535-8113-680b304ff4ca",
   "metadata": {},
   "outputs": [
    {
     "data": {
      "text/plain": [
       "284.0"
      ]
     },
     "execution_count": 4,
     "metadata": {},
     "output_type": "execute_result"
    }
   ],
   "source": [
    "median_order_value = df['order_amount'].median()\n",
    "median_order_value"
   ]
  },
  {
   "cell_type": "markdown",
   "id": "200182b6-beac-4d3f-a352-485d96b83151",
   "metadata": {},
   "source": [
    "### Question 2"
   ]
  },
  {
   "cell_type": "markdown",
   "id": "ac54835b-f09e-4b1e-9121-ee6bd2148232",
   "metadata": {},
   "source": [
    "**a.** **54 orders** were shipped by Speedy Express in total."
   ]
  },
  {
   "cell_type": "raw",
   "id": "3761eb5b-9f5b-40fa-aeb6-1a1b42624078",
   "metadata": {},
   "source": [
    "SELECT COUNT(*) FROM Orders\n",
    "WHERE ShipperID = (\n",
    "    SELECT ShipperID FROM Shippers\n",
    "    WHERE ShipperName = 'Speedy Express'\n",
    "    );"
   ]
  },
  {
   "cell_type": "markdown",
   "id": "46f5a70a-be89-4805-bf39-6c610c3bd7ab",
   "metadata": {},
   "source": [
    "**b.** The last name of the employee with the most orders is **Peacock**."
   ]
  },
  {
   "cell_type": "raw",
   "id": "9ad40024-c21a-4619-9d7c-edb7ff4fd5f5",
   "metadata": {},
   "source": [
    "SELECT LastName FROM Employees\n",
    "WHERE EmployeeID = (\n",
    "    SELECT EmployeeID FROM Orders\n",
    "    GROUP BY EmployeeID\n",
    "    ORDER BY COUNT(*) DESC\n",
    "    LIMIT 1\n",
    "    );"
   ]
  },
  {
   "cell_type": "markdown",
   "id": "0468c3cd-66a1-4836-a618-75dfaa7d9e0d",
   "metadata": {},
   "source": [
    "**c.** The product was ordered the most by customers in Germany is **Boston Crab Meat**.\n"
   ]
  },
  {
   "cell_type": "raw",
   "id": "d0ed8568-1169-4795-8b9e-57ebcd07fcf4",
   "metadata": {},
   "source": [
    "SELECT ProductName FROM Products\n",
    "WHERE ProductID = (\n",
    "  SELECT ProductID FROM OrderDetails od\n",
    "    JOIN (\n",
    "      SELECT * FROM Orders\n",
    "      WHERE CustomerID in (\n",
    "        SELECT CustomerID FROM Customers\n",
    "        WHERE Country = 'Germany'\n",
    "      )\n",
    "    ) o\n",
    "    ON od.OrderID = o.OrderID\n",
    "    GROUP BY ProductID\n",
    "    ORDER BY SUM(Quantity) DESC\n",
    "    LIMIT 1\n",
    "  );"
   ]
  }
 ],
 "metadata": {
  "kernelspec": {
   "display_name": "Python 3 (ipykernel)",
   "language": "python",
   "name": "python3"
  },
  "language_info": {
   "codemirror_mode": {
    "name": "ipython",
    "version": 3
   },
   "file_extension": ".py",
   "mimetype": "text/x-python",
   "name": "python",
   "nbconvert_exporter": "python",
   "pygments_lexer": "ipython3",
   "version": "3.9.5"
  }
 },
 "nbformat": 4,
 "nbformat_minor": 5
}
